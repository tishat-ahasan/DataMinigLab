{
 "cells": [
  {
   "cell_type": "code",
   "execution_count": 69,
   "metadata": {},
   "outputs": [
    {
     "name": "stdout",
     "output_type": "stream",
     "text": [
      "[0.8684491601732139, 0.618620746411119, 0.7445496486191608, 0.7815364501477676] [0.23657454408335798, 0.2062472943760445, 0.5944639417218145, 0.7344022418407983]\n",
      "8_fig.png\n"
     ]
    },
    {
     "data": {
      "image/png": "[encoded data removed]",
      "text/plain": [
       "<Figure size 432x288 with 1 Axes>"
      ]
     },
     "metadata": {
      "needs_background": "light"
     },
     "output_type": "display_data"
    },
    {
     "name": "stdout",
     "output_type": "stream",
     "text": [
      "True\n",
      "Error: 27.174211690782407 Squared Error: 9.879153236963155\n",
      "[0.512256034513507, 0.512256034513507, 0.512256034513507, 0.512256034513507] [0.5006510146156747, 0.5006510146156747, 0.5006510146156747, 0.5006510146156747]\n",
      "5_fig.png\n"
     ]
    },
    {
     "data": {
      "image/png": "[encoded data removed]",
      "text/plain": [
       "<Figure size 432x288 with 1 Axes>"
      ]
     },
     "metadata": {
      "needs_background": "light"
     },
     "output_type": "display_data"
    },
    {
     "name": "stdout",
     "output_type": "stream",
     "text": [
      "True\n",
      "Error: 36.217215674172046 Squared Error: 16.51166987055053\n",
      "[0.512256034513507, 0.512256034513507, 0.512256034513507, 0.512256034513507] [0.5006510146156747, 0.5006510146156747, 0.5006510146156747, 0.5006510146156747]\n",
      "10_fig.png\n"
     ]
    },
    {
     "data": {
      "image/png": "[encoded data removed]",
      "text/plain": [
       "<Figure size 432x288 with 1 Axes>"
      ]
     },
     "metadata": {
      "needs_background": "light"
     },
     "output_type": "display_data"
    },
    {
     "name": "stdout",
     "output_type": "stream",
     "text": [
      "False\n",
      "Error: 36.217215674172046 Squared Error: 16.51166987055053\n"
     ]
    }
   ],
   "source": [
    "import pandas as pd\n",
    "import numpy as np\n",
    "import random\n",
    "import math\n",
    "from sklearn import preprocessing\n",
    "from matplotlib import pyplot as plt\n",
    "\n",
    "def getData(dataset_name):\n",
    "    attribute_file_name = 'Data/'+dataset_name+\".attribute\"\n",
    "    dataset_file_name = 'Data/'+dataset_name+\".data\"\n",
    "    att = pd.read_csv(attribute_file_name,\n",
    "                      delim_whitespace=True,\n",
    "                     header = None)\n",
    "    attributes = {rows[0]:rows[1] for _,rows in att.iterrows()}\n",
    "    dataset = pd.read_csv(dataset_file_name,\n",
    "                      names=list(attributes.keys()))\n",
    "    if 'class' in attributes: \n",
    "        del attributes['class']; del dataset['class']\n",
    "    return attributes, dataset\n",
    "\n",
    "\n",
    "\n",
    "def dist(x,y, minkowski = 2):\n",
    "    val = 0.0\n",
    "    for att in attributes:\n",
    "        val += (x[att] - y[att])*(x[att] - y[att])\n",
    "    val = math.sqrt(val)\n",
    "    return val\n",
    "\n",
    "def calculateError():\n",
    "    error = 0\n",
    "    sqrt_error = 0\n",
    "    for i in range(len(dataset)):\n",
    "        sqrt_error += dist(dataset.iloc[i], pd.DataFrame(centroids[cluster_index[i]],index=[0]))**2\n",
    "        error += dist(dataset.iloc[i], pd.DataFrame(centroids[cluster_index[i]],index=[0]))\n",
    "    print(\"Error:\",error,\"Squared Error:\", sqrt_error)\n",
    "    return sqrt_error\n",
    "\n",
    "def assignCluster():\n",
    "    flag = False\n",
    "    for i in range(len(dataset)):\n",
    "        min_val = math.inf\n",
    "        min_idx = -1\n",
    "        for j in range(len(centroids)):\n",
    "            distance = dist(dataset.iloc[i], pd.DataFrame(centroids[j],index=[0]))\n",
    "            if distance < min_val:\n",
    "                min_val = distance\n",
    "                min_idx = j\n",
    "            if flag==False and cluster_index[i] != min_idx:\n",
    "                flag = True\n",
    "        cluster_index[i] = min_idx\n",
    "    return flag\n",
    "\n",
    "def newCentroids():\n",
    "    for i in range(len(centroids)):\n",
    "        List = [j for j in range(len(dataset)) if cluster_index[j]==i]\n",
    "        clustered_data = dataset.iloc[List]\n",
    "        for column in dataset.columns:\n",
    "            centroids[i][column] = dataset[column].mean()\n",
    "\n",
    "\n",
    "def showGraph():\n",
    "    x = []\n",
    "    y = []\n",
    "    color = [\"red\",\"green\", \"blue\", \"yellow\", \"black\"]\n",
    "    for i in range(len(centroids)+1):\n",
    "        x.append([])\n",
    "        y.append([])\n",
    "    for i in range(len(dataset)):\n",
    "        x[cluster_index[i]].append(dataset.iloc[i]['x'])\n",
    "        y[cluster_index[i]].append(dataset.iloc[i]['x'])\n",
    "    for i in range(len(centroids)):\n",
    "        x[len(centroids)].append(centroids[i]['x'])\n",
    "        y[len(centroids)].append(centroids[i]['y'])\n",
    "    for i in range(len(centroids)):\n",
    "        plt.scatter(x[i],y[i],color=color[i])\n",
    "    print(x[-1],y[-1])\n",
    "    plt.scatter(x[-1],y[-1],color=\"black\")\n",
    "    filename = str(\"fig_\"+str(fig_num)+\".png\"\n",
    "    fig_num +=1\n",
    "    print(filename)\n",
    "    plt.savefig(filename)\n",
    "    plt.show()\n",
    "\n",
    "\n",
    "dataset_name = 'test'\n",
    "attributes, dataset = getData(dataset_name)\n",
    "min_max_scaler = preprocessing.MinMaxScaler()\n",
    "dataset = pd.DataFrame(min_max_scaler.fit_transform(dataset), columns=dataset.columns, index=dataset.index)\n",
    "\n",
    "k = 4\n",
    "fig_num = 0\n",
    "\n",
    "centroids = []\n",
    "cluster_index = [-1]*len(dataset)\n",
    "# print(cluster_index)\n",
    "for i in range (k): \n",
    "    centroid = {}\n",
    "    for column in dataset.columns:\n",
    "#         print(min(dataset[column]),\" --- \", max(dataset[column]))\n",
    "        centroid[column] = random.uniform(min(dataset[column]),max(dataset[column])\n",
    "    centroids.append(centroid)\n",
    "\n",
    "while True:\n",
    "    continue_loop = assignCluster()\n",
    "    showGraph()\n",
    "    print(continue_loop)\n",
    "    newError = calculateError()\n",
    "    newCentroids()\n",
    "    if continue_loop == False:\n",
    "        break\n"
   ]
  },
  {
   "cell_type": "code",
   "execution_count": 41,
   "metadata": {},
   "outputs": [
    {
     "name": "stdout",
     "output_type": "stream",
     "text": [
      "           x         y\n",
      "1   0.027076  0.098719\n",
      "2   0.117530  0.209008\n",
      "4   0.182156  0.145077\n",
      "10  0.071902  0.023835\n"
     ]
    }
   ],
   "source": [
    "print(dataset.iloc[[1,2,4,10]])"
   ]
  },
  {
   "cell_type": "code",
   "execution_count": null,
   "metadata": {},
   "outputs": [],
   "source": []
  }
 ],
 "metadata": {
  "kernelspec": {
   "display_name": "Python 3",
   "language": "python",
   "name": "python3"
  },
  "language_info": {
   "codemirror_mode": {
    "name": "ipython",
    "version": 3
   },
   "file_extension": ".py",
   "mimetype": "text/x-python",
   "name": "python",
   "nbconvert_exporter": "python",
   "pygments_lexer": "ipython3",
   "version": "3.7.3"
  }
 },
 "nbformat": 4,
 "nbformat_minor": 2
}
