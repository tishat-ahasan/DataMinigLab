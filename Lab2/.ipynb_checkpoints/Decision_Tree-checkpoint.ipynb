{
 "cells": [
  {
   "cell_type": "code",
   "execution_count": 28,
   "metadata": {},
   "outputs": [
    {
     "name": "stdout",
     "output_type": "stream",
     "text": [
      "dict_keys(['TR', 'TM', 'TL', 'MR', 'MM', 'ML', 'BR', 'BM', 'BL', 'class'])\n",
      "Data Load successfully!!!\n"
     ]
    },
    {
     "name": "stderr",
     "output_type": "stream",
     "text": [
      "/home/ahasan/anaconda3/lib/python3.7/site-packages/sklearn/metrics/classification.py:1145: UndefinedMetricWarning: Recall is ill-defined and being set to 0.0 in labels with no true samples.\n",
      "  'recall', 'true', average, warn_for)\n",
      "/home/ahasan/anaconda3/lib/python3.7/site-packages/sklearn/metrics/classification.py:1145: UndefinedMetricWarning: F-score is ill-defined and being set to 0.0 in labels with no true samples.\n",
      "  'recall', 'true', average, warn_for)\n"
     ]
    },
    {
     "name": "stdout",
     "output_type": "stream",
     "text": [
      "DecisionTree,0.1,76.04166666666666,56.17690058479532,51.028433151845135,53.35981463091692\n"
     ]
    },
    {
     "name": "stderr",
     "output_type": "stream",
     "text": [
      "/home/ahasan/anaconda3/lib/python3.7/site-packages/sklearn/metrics/classification.py:1145: UndefinedMetricWarning: Recall is ill-defined and being set to 0.0 in labels with no true samples.\n",
      "  'recall', 'true', average, warn_for)\n",
      "/home/ahasan/anaconda3/lib/python3.7/site-packages/sklearn/metrics/classification.py:1145: UndefinedMetricWarning: F-score is ill-defined and being set to 0.0 in labels with no true samples.\n",
      "  'recall', 'true', average, warn_for)\n"
     ]
    },
    {
     "name": "stdout",
     "output_type": "stream",
     "text": [
      "DecisionTree,0.1,82.29166666666666,59.64015151515151,54.785954785954786,57.07083876575402\n"
     ]
    },
    {
     "name": "stderr",
     "output_type": "stream",
     "text": [
      "/home/ahasan/anaconda3/lib/python3.7/site-packages/sklearn/metrics/classification.py:1145: UndefinedMetricWarning: Recall is ill-defined and being set to 0.0 in labels with no true samples.\n",
      "  'recall', 'true', average, warn_for)\n",
      "/home/ahasan/anaconda3/lib/python3.7/site-packages/sklearn/metrics/classification.py:1145: UndefinedMetricWarning: F-score is ill-defined and being set to 0.0 in labels with no true samples.\n",
      "  'recall', 'true', average, warn_for)\n"
     ]
    },
    {
     "name": "stdout",
     "output_type": "stream",
     "text": [
      "DecisionTree,0.1,83.33333333333334,60.478927203065126,54.071075123706706,56.67001843472431\n"
     ]
    },
    {
     "name": "stderr",
     "output_type": "stream",
     "text": [
      "/home/ahasan/anaconda3/lib/python3.7/site-packages/sklearn/metrics/classification.py:1145: UndefinedMetricWarning: Recall is ill-defined and being set to 0.0 in labels with no true samples.\n",
      "  'recall', 'true', average, warn_for)\n",
      "/home/ahasan/anaconda3/lib/python3.7/site-packages/sklearn/metrics/classification.py:1145: UndefinedMetricWarning: F-score is ill-defined and being set to 0.0 in labels with no true samples.\n",
      "  'recall', 'true', average, warn_for)\n"
     ]
    },
    {
     "name": "stdout",
     "output_type": "stream",
     "text": [
      "DecisionTree,0.1,83.33333333333334,56.423611111111114,54.07969639468691,55.142195767195766\n"
     ]
    },
    {
     "name": "stderr",
     "output_type": "stream",
     "text": [
      "/home/ahasan/anaconda3/lib/python3.7/site-packages/sklearn/metrics/classification.py:1145: UndefinedMetricWarning: Recall is ill-defined and being set to 0.0 in labels with no true samples.\n",
      "  'recall', 'true', average, warn_for)\n",
      "/home/ahasan/anaconda3/lib/python3.7/site-packages/sklearn/metrics/classification.py:1145: UndefinedMetricWarning: F-score is ill-defined and being set to 0.0 in labels with no true samples.\n",
      "  'recall', 'true', average, warn_for)\n"
     ]
    },
    {
     "name": "stdout",
     "output_type": "stream",
     "text": [
      "DecisionTree,0.1,76.04166666666666,54.88215488215488,50.649350649350644,52.6029526029526\n"
     ]
    },
    {
     "name": "stderr",
     "output_type": "stream",
     "text": [
      "/home/ahasan/anaconda3/lib/python3.7/site-packages/sklearn/metrics/classification.py:1145: UndefinedMetricWarning: Recall is ill-defined and being set to 0.0 in labels with no true samples.\n",
      "  'recall', 'true', average, warn_for)\n",
      "/home/ahasan/anaconda3/lib/python3.7/site-packages/sklearn/metrics/classification.py:1145: UndefinedMetricWarning: F-score is ill-defined and being set to 0.0 in labels with no true samples.\n",
      "  'recall', 'true', average, warn_for)\n"
     ]
    },
    {
     "name": "stdout",
     "output_type": "stream",
     "text": [
      "DecisionTree,0.2,86.45833333333334,58.517060367454064,56.18085618085619,57.287157287157285\n"
     ]
    },
    {
     "name": "stderr",
     "output_type": "stream",
     "text": [
      "/home/ahasan/anaconda3/lib/python3.7/site-packages/sklearn/metrics/classification.py:1145: UndefinedMetricWarning: Recall is ill-defined and being set to 0.0 in labels with no true samples.\n",
      "  'recall', 'true', average, warn_for)\n",
      "/home/ahasan/anaconda3/lib/python3.7/site-packages/sklearn/metrics/classification.py:1145: UndefinedMetricWarning: F-score is ill-defined and being set to 0.0 in labels with no true samples.\n",
      "  'recall', 'true', average, warn_for)\n"
     ]
    },
    {
     "name": "stdout",
     "output_type": "stream",
     "text": [
      "DecisionTree,0.2,81.77083333333334,57.469519208649636,54.7979797979798,55.9801630404968\n"
     ]
    },
    {
     "name": "stderr",
     "output_type": "stream",
     "text": [
      "/home/ahasan/anaconda3/lib/python3.7/site-packages/sklearn/metrics/classification.py:1145: UndefinedMetricWarning: Recall is ill-defined and being set to 0.0 in labels with no true samples.\n",
      "  'recall', 'true', average, warn_for)\n",
      "/home/ahasan/anaconda3/lib/python3.7/site-packages/sklearn/metrics/classification.py:1145: UndefinedMetricWarning: F-score is ill-defined and being set to 0.0 in labels with no true samples.\n",
      "  'recall', 'true', average, warn_for)\n"
     ]
    },
    {
     "name": "stdout",
     "output_type": "stream",
     "text": [
      "DecisionTree,0.2,78.64583333333334,56.512721238938056,51.651893634165994,53.95167379813742\n"
     ]
    },
    {
     "name": "stderr",
     "output_type": "stream",
     "text": [
      "/home/ahasan/anaconda3/lib/python3.7/site-packages/sklearn/metrics/classification.py:1145: UndefinedMetricWarning: Recall is ill-defined and being set to 0.0 in labels with no true samples.\n",
      "  'recall', 'true', average, warn_for)\n",
      "/home/ahasan/anaconda3/lib/python3.7/site-packages/sklearn/metrics/classification.py:1145: UndefinedMetricWarning: F-score is ill-defined and being set to 0.0 in labels with no true samples.\n",
      "  'recall', 'true', average, warn_for)\n"
     ]
    },
    {
     "name": "stdout",
     "output_type": "stream",
     "text": [
      "DecisionTree,0.2,85.9375,57.47927031509121,56.770833333333336,57.07953705983747\n"
     ]
    },
    {
     "name": "stderr",
     "output_type": "stream",
     "text": [
      "/home/ahasan/anaconda3/lib/python3.7/site-packages/sklearn/metrics/classification.py:1145: UndefinedMetricWarning: Recall is ill-defined and being set to 0.0 in labels with no true samples.\n",
      "  'recall', 'true', average, warn_for)\n",
      "/home/ahasan/anaconda3/lib/python3.7/site-packages/sklearn/metrics/classification.py:1145: UndefinedMetricWarning: F-score is ill-defined and being set to 0.0 in labels with no true samples.\n",
      "  'recall', 'true', average, warn_for)\n"
     ]
    },
    {
     "name": "stdout",
     "output_type": "stream",
     "text": [
      "DecisionTree,0.2,86.45833333333334,60.21971288515405,56.78811158964808,58.425925925925924\n"
     ]
    },
    {
     "name": "stderr",
     "output_type": "stream",
     "text": [
      "/home/ahasan/anaconda3/lib/python3.7/site-packages/sklearn/metrics/classification.py:1145: UndefinedMetricWarning: Recall is ill-defined and being set to 0.0 in labels with no true samples.\n",
      "  'recall', 'true', average, warn_for)\n",
      "/home/ahasan/anaconda3/lib/python3.7/site-packages/sklearn/metrics/classification.py:1145: UndefinedMetricWarning: F-score is ill-defined and being set to 0.0 in labels with no true samples.\n",
      "  'recall', 'true', average, warn_for)\n"
     ]
    },
    {
     "name": "stdout",
     "output_type": "stream",
     "text": [
      "DecisionTree,0.3,84.72222222222221,59.18289423444062,54.75972004821791,56.74984191838125\n"
     ]
    },
    {
     "name": "stderr",
     "output_type": "stream",
     "text": [
      "/home/ahasan/anaconda3/lib/python3.7/site-packages/sklearn/metrics/classification.py:1145: UndefinedMetricWarning: Recall is ill-defined and being set to 0.0 in labels with no true samples.\n",
      "  'recall', 'true', average, warn_for)\n",
      "/home/ahasan/anaconda3/lib/python3.7/site-packages/sklearn/metrics/classification.py:1145: UndefinedMetricWarning: F-score is ill-defined and being set to 0.0 in labels with no true samples.\n",
      "  'recall', 'true', average, warn_for)\n"
     ]
    },
    {
     "name": "stdout",
     "output_type": "stream",
     "text": [
      "DecisionTree,0.3,81.94444444444444,58.0542264752791,54.03472931562819,55.957554736019524\n"
     ]
    },
    {
     "name": "stderr",
     "output_type": "stream",
     "text": [
      "/home/ahasan/anaconda3/lib/python3.7/site-packages/sklearn/metrics/classification.py:1145: UndefinedMetricWarning: Recall is ill-defined and being set to 0.0 in labels with no true samples.\n",
      "  'recall', 'true', average, warn_for)\n",
      "/home/ahasan/anaconda3/lib/python3.7/site-packages/sklearn/metrics/classification.py:1145: UndefinedMetricWarning: F-score is ill-defined and being set to 0.0 in labels with no true samples.\n",
      "  'recall', 'true', average, warn_for)\n"
     ]
    },
    {
     "name": "stdout",
     "output_type": "stream",
     "text": [
      "DecisionTree,0.3,85.41666666666666,58.178613631356534,55.7375241246209,56.93189881671557\n"
     ]
    },
    {
     "name": "stderr",
     "output_type": "stream",
     "text": [
      "/home/ahasan/anaconda3/lib/python3.7/site-packages/sklearn/metrics/classification.py:1145: UndefinedMetricWarning: Recall is ill-defined and being set to 0.0 in labels with no true samples.\n",
      "  'recall', 'true', average, warn_for)\n",
      "/home/ahasan/anaconda3/lib/python3.7/site-packages/sklearn/metrics/classification.py:1145: UndefinedMetricWarning: F-score is ill-defined and being set to 0.0 in labels with no true samples.\n",
      "  'recall', 'true', average, warn_for)\n"
     ]
    },
    {
     "name": "stdout",
     "output_type": "stream",
     "text": [
      "DecisionTree,0.3,78.81944444444444,54.940302522399485,51.188686000716075,52.990664533394835\n"
     ]
    },
    {
     "name": "stderr",
     "output_type": "stream",
     "text": [
      "/home/ahasan/anaconda3/lib/python3.7/site-packages/sklearn/metrics/classification.py:1145: UndefinedMetricWarning: Recall is ill-defined and being set to 0.0 in labels with no true samples.\n",
      "  'recall', 'true', average, warn_for)\n",
      "/home/ahasan/anaconda3/lib/python3.7/site-packages/sklearn/metrics/classification.py:1145: UndefinedMetricWarning: F-score is ill-defined and being set to 0.0 in labels with no true samples.\n",
      "  'recall', 'true', average, warn_for)\n"
     ]
    },
    {
     "name": "stdout",
     "output_type": "stream",
     "text": [
      "DecisionTree,0.3,84.375,57.213403880070544,54.81919083422843,55.96848743427084\n"
     ]
    },
    {
     "name": "stderr",
     "output_type": "stream",
     "text": [
      "/home/ahasan/anaconda3/lib/python3.7/site-packages/sklearn/metrics/classification.py:1145: UndefinedMetricWarning: Recall is ill-defined and being set to 0.0 in labels with no true samples.\n",
      "  'recall', 'true', average, warn_for)\n",
      "/home/ahasan/anaconda3/lib/python3.7/site-packages/sklearn/metrics/classification.py:1145: UndefinedMetricWarning: F-score is ill-defined and being set to 0.0 in labels with no true samples.\n",
      "  'recall', 'true', average, warn_for)\n"
     ]
    },
    {
     "name": "stdout",
     "output_type": "stream",
     "text": [
      "DecisionTree,0.4,77.08333333333334,55.12946574893478,50.63251106894371,52.78448803427062\n"
     ]
    },
    {
     "name": "stderr",
     "output_type": "stream",
     "text": [
      "/home/ahasan/anaconda3/lib/python3.7/site-packages/sklearn/metrics/classification.py:1145: UndefinedMetricWarning: Recall is ill-defined and being set to 0.0 in labels with no true samples.\n",
      "  'recall', 'true', average, warn_for)\n",
      "/home/ahasan/anaconda3/lib/python3.7/site-packages/sklearn/metrics/classification.py:1145: UndefinedMetricWarning: F-score is ill-defined and being set to 0.0 in labels with no true samples.\n",
      "  'recall', 'true', average, warn_for)\n"
     ]
    },
    {
     "name": "stdout",
     "output_type": "stream",
     "text": [
      "DecisionTree,0.4,80.46875,55.22995916612938,52.79250618593142,53.98372731706065\n"
     ]
    },
    {
     "name": "stderr",
     "output_type": "stream",
     "text": [
      "/home/ahasan/anaconda3/lib/python3.7/site-packages/sklearn/metrics/classification.py:1145: UndefinedMetricWarning: Recall is ill-defined and being set to 0.0 in labels with no true samples.\n",
      "  'recall', 'true', average, warn_for)\n",
      "/home/ahasan/anaconda3/lib/python3.7/site-packages/sklearn/metrics/classification.py:1145: UndefinedMetricWarning: F-score is ill-defined and being set to 0.0 in labels with no true samples.\n",
      "  'recall', 'true', average, warn_for)\n"
     ]
    },
    {
     "name": "stdout",
     "output_type": "stream",
     "text": [
      "DecisionTree,0.4,80.46875,56.66738166738167,51.9370651486401,54.037786774628884\n"
     ]
    },
    {
     "name": "stderr",
     "output_type": "stream",
     "text": [
      "/home/ahasan/anaconda3/lib/python3.7/site-packages/sklearn/metrics/classification.py:1145: UndefinedMetricWarning: Recall is ill-defined and being set to 0.0 in labels with no true samples.\n",
      "  'recall', 'true', average, warn_for)\n",
      "/home/ahasan/anaconda3/lib/python3.7/site-packages/sklearn/metrics/classification.py:1145: UndefinedMetricWarning: F-score is ill-defined and being set to 0.0 in labels with no true samples.\n",
      "  'recall', 'true', average, warn_for)\n"
     ]
    },
    {
     "name": "stdout",
     "output_type": "stream",
     "text": [
      "DecisionTree,0.4,79.42708333333334,55.44513757918662,50.977352181182546,53.091858648426324\n",
      "DecisionTree,0.4,79.94791666666666,55.41863564764328,50.819574594675,52.72124374864101\n"
     ]
    },
    {
     "name": "stderr",
     "output_type": "stream",
     "text": [
      "/home/ahasan/anaconda3/lib/python3.7/site-packages/sklearn/metrics/classification.py:1145: UndefinedMetricWarning: Recall is ill-defined and being set to 0.0 in labels with no true samples.\n",
      "  'recall', 'true', average, warn_for)\n",
      "/home/ahasan/anaconda3/lib/python3.7/site-packages/sklearn/metrics/classification.py:1145: UndefinedMetricWarning: F-score is ill-defined and being set to 0.0 in labels with no true samples.\n",
      "  'recall', 'true', average, warn_for)\n"
     ]
    }
   ],
   "source": [
    "import pandas as pd\n",
    "import numpy as np\n",
    "import math\n",
    "from pprint import pprint\n",
    "from sklearn.model_selection import train_test_split\n",
    "from sklearn.metrics import accuracy_score, precision_score, recall_score, f1_score\n",
    "import warnings\n",
    "warnings.filterwarnings('always')\n",
    "\n",
    "def getData(dataset_name):\n",
    "    attribute_file_name = 'Data/'+dataset_name+\".attribute\"\n",
    "    dataset_file_name = 'Data/'+dataset_name+\".data\"\n",
    "    att = pd.read_csv(attribute_file_name,\n",
    "                      delim_whitespace=True,\n",
    "                     header = None)\n",
    "    attributes = {rows[0]:rows[1] for _,rows in att.iterrows()}\n",
    "    dataset = pd.read_csv(dataset_file_name,\n",
    "                      names=list(attributes.keys()))\n",
    "    return attributes, dataset\n",
    "\n",
    "\n",
    "def getEntropy(target_col, col_type, split_point=0.0):\n",
    "    if col_type == 'category':\n",
    "        counts = list(target_col.value_counts().values)\n",
    "    else:\n",
    "        left = target_col <= split_point\n",
    "        right = target_col > split_point\n",
    "        counts = [len(target_col[left]), len(target_col[right])]\n",
    "    entropy = np.sum([(-counts[i]/np.sum(counts))*np.log2(counts[i]/np.sum(counts)) for i in range(len(counts))])\n",
    "    return entropy\n",
    "\n",
    "def InfoGainRatio(data,split_attribute_name,split_att_type,target_name=\"class\"):\n",
    "    total_entropy = getEntropy(data[target_name], attributes[target_name])\n",
    "    \n",
    "\n",
    "    if split_att_type == 'category':\n",
    "        tmp = data[split_attribute_name].value_counts()\n",
    "        val = list(tmp.index)\n",
    "        counts = list(tmp.values)\n",
    "        information = data[split_att_type].value_counts()\n",
    "        Weighted_Entropy = np.sum([(counts[i]/np.sum(counts))*getEntropy(data.where(data[split_attribute_name]==vals[i]).dropna()[target_name], attributes[split_attribute_name]) for i in range(len(vals))])\n",
    "        Information_Gain = total_entropy - Weighted_Entropy\n",
    "        if Information_Gain == 0.0:\n",
    "            return Information_Gain\n",
    "        Gain_Ratio = Information_Gain/getEntropy(data[split_attribute_name], attributes[split_attribute_name])\n",
    "        return Gain_Ratio, None\n",
    "    else:\n",
    "        values = list(np.unique(data[split_attribute_name]))\n",
    "        best = 0\n",
    "        idx = None\n",
    "        for val in values:\n",
    "            left = data[split_attribute_name] <= val\n",
    "            right = data[split_attribute_name] > val\n",
    "            counts = [len(data[split_attribute_name][left]), len(data[split_attribute_name][right])]\n",
    "            Weighted_Entropy = (counts[0]/np.sum(counts))*getEntropy(data.where(data[split_attribute_name]<=val).dropna()[target_name], attributes[target_name], val) + (counts[1]/np.sum(counts))*getEntropy(data.where(data[split_attribute_name]>val).dropna()[target_name], attributes[target_name], val)\n",
    "            Information_Gain = total_entropy - Weighted_Entropy\n",
    "            if Information_Gain == 0.0:\n",
    "                continue\n",
    "            Gain_Ratio = Information_Gain/getEntropy(data[split_attribute_name], attributes[split_attribute_name], val)\n",
    "            if Gain_Ratio>=best:\n",
    "                best = Gain_Ratio\n",
    "                idx = val\n",
    "        return best, idx\n",
    "\n",
    "def makeDecisionTree(data,features,target_attribute_name=\"class\",parent_node_class = None):\n",
    "    if len(features)==0 or len(data) == 0 or len(data.columns) == 1:\n",
    "        return parent_node_class\n",
    "    try:\n",
    "        if len(np.unique(data[target_attribute_name])) <= 1:\n",
    "            return np.unique(data[target_attribute_name])[0]\n",
    "    except KeyError:\n",
    "        print(\"Key Error\")\n",
    "    else:\n",
    "        parent_node_class = data[target_attribute_name].value_counts().idxmax()\n",
    "        max_GR = -math.inf \n",
    "        for feature in features:\n",
    "            GR, point = InfoGainRatio(data,feature,target_attribute_name)\n",
    "            if GR> max_GR:\n",
    "                max_GR = GR\n",
    "                split_point = point\n",
    "                best_feature = feature\n",
    "        tree = {best_feature:{}}\n",
    "        features = features[features != best_feature]\n",
    "        if attributes[best_feature] == 'category':\n",
    "            grouped = data.groupby(data[best_feature])\n",
    "            for value in np.unique(data[best_feature]):\n",
    "                sub_data = grouped.get_group(value)\n",
    "                if best_feature != target_attribute_name:\n",
    "                    del sub_data[best_feature]\n",
    "                subtree = makeDecisionTree(sub_data,features,target_attribute_name,parent_node_class)\n",
    "                tree[best_feature][value] = subtree\n",
    "            return(tree)\n",
    "        else:\n",
    "            sub_data1 = data[data[best_feature]<=split_point]\n",
    "            sub_data2 = data[data[best_feature]>split_point]\n",
    "            if best_feature != target_attribute_name:\n",
    "                del sub_data1[best_feature]\n",
    "                del sub_data2[best_feature]\n",
    "            subtree1 = makeDecisionTree(sub_data1,features,target_attribute_name,parent_node_class)\n",
    "            subtree2 = makeDecisionTree(sub_data2,features,target_attribute_name,parent_node_class)\n",
    "            tree[best_feature][split_point] = [subtree1, subtree2]\n",
    "            return(tree)\n",
    "\n",
    "\n",
    "def predict(query,tree,default = 1):\n",
    "    if not isinstance(tree, dict):\n",
    "        return tree\n",
    "    att_name = list(tree.keys())[0]\n",
    "    if attributes[att_name] == 'category':\n",
    "        try:\n",
    "            result_tree = tree[att_name][query[att_name]]\n",
    "        except:\n",
    "            return default\n",
    "        result_tree = tree[att_name][query[att_name]]\n",
    "        return predict(query, result_tree)\n",
    "    else:\n",
    "        key_val = list(tree[att_name].keys())[0]\n",
    "        if  query[att_name]<=key_val:\n",
    "            result_tree = tree[att_name][key_val][0]\n",
    "        else:\n",
    "            result_tree = tree[att_name][key_val][1]\n",
    "        return predict(query, result_tree)\n",
    "\n",
    "def printDecisionTree(tree,level):\n",
    "    level += \" \"\n",
    "    for key,value in tree.items():\n",
    "        if isinstance(value, dict):\n",
    "            print(level+str(key)+\":\")\n",
    "            printDecisionTree(value, level)\n",
    "        elif isinstance(value,list):\n",
    "            if isinstance(value[0],dict):\n",
    "                print(level+str(key)+\">= (less than):\")\n",
    "                printDecisionTree(value[0], level)\n",
    "            else:\n",
    "                print(level+str(key)+\">= (less than):\"+\"-->\",value[0])\n",
    "                \n",
    "            if isinstance(value[1],dict):\n",
    "                print(level+str(key)+\" < (greater than):\")\n",
    "                printDecisionTree(value[1], level)\n",
    "            else:\n",
    "                print(level+str(key)+\"< (greater than):\"+\"-->\",value[1])\n",
    "        else: \n",
    "            print(level+str(key)+\"-->\",value)    \n",
    "\n",
    "\n",
    "def test(data,tree, features):\n",
    "    original_data = list(data['class'])\n",
    "    queries = data[features].to_dict(orient = \"records\")\n",
    "    predictions = [predict(query,tree) for query in queries]\n",
    "    accuracy = accuracy_score(original_data, predictions)\n",
    "    precision = precision_score(original_data, predictions, average=\"macro\")\n",
    "    recall = recall_score(original_data, predictions, average=\"macro\")\n",
    "    f1 = f1_score(original_data, predictions, average=\"macro\")\n",
    "    return accuracy*100, precision*100, recall*100, f1*100\n",
    "\n",
    "attributes, dataset = getData(dataset_name='WholesaleCustomer')\n",
    "dataset = dataset.dropna()\n",
    "print(attributes.keys())\n",
    "\n",
    "print(\"Data Load successfully!!!\")\n",
    "for j in [0.2]:    \n",
    "    testSize = j\n",
    "    for i in range(5):\n",
    "        training_data, testing_data = train_test_split(dataset, test_size = testSize)\n",
    "        # print(attributes)\n",
    "        features = training_data.columns\n",
    "        features = features[features!= 'class']\n",
    "\n",
    "        tree = makeDecisionTree(training_data,features)\n",
    "        accuracy, precision, recall, f1 = test(testing_data,tree, features)\n",
    "\n",
    "        print('DecisionTree,'+str(testSize)+\",\"+str(accuracy)+\",\"+str(precision)+\",\"+str(recall)+\",\"+str(f1))\n",
    "\n",
    "# print(\"accuracy \\t precision \\t recall \\t f1\")\n",
    "# print(\"{:.2f}\".format(accuracy),\"%\\t\\t\", \n",
    "#       \"{:.2f}\".format(precision),\"%\\t\",\n",
    "#       \"{:.2f}\".format(recall),\"%\\t\", \n",
    "#       \"{:.2f}\".format(f1),\"%\")"
   ]
  },
  {
   "cell_type": "code",
   "execution_count": 10,
   "metadata": {},
   "outputs": [
    {
     "ename": "NameError",
     "evalue": "name 'data' is not defined",
     "output_type": "error",
     "traceback": [
      "\u001b[0;31m---------------------------------------------------------------------------\u001b[0m",
      "\u001b[0;31mNameError\u001b[0m                                 Traceback (most recent call last)",
      "\u001b[0;32m<ipython-input-10-6f0deaa88227>\u001b[0m in \u001b[0;36m<module>\u001b[0;34m\u001b[0m\n\u001b[0;32m----> 1\u001b[0;31m \u001b[0mdata\u001b[0m\u001b[0;34m.\u001b[0m\u001b[0mcolums\u001b[0m\u001b[0;34m\u001b[0m\u001b[0;34m\u001b[0m\u001b[0m\n\u001b[0m",
      "\u001b[0;31mNameError\u001b[0m: name 'data' is not defined"
     ]
    }
   ],
   "source": [
    "data.colums"
   ]
  },
  {
   "cell_type": "code",
   "execution_count": null,
   "metadata": {},
   "outputs": [],
   "source": []
  },
  {
   "cell_type": "code",
   "execution_count": null,
   "metadata": {},
   "outputs": [],
   "source": [
    "training_data.columns"
   ]
  },
  {
   "cell_type": "code",
   "execution_count": null,
   "metadata": {},
   "outputs": [],
   "source": [
    "len(training_data.columns)"
   ]
  },
  {
   "cell_type": "code",
   "execution_count": null,
   "metadata": {},
   "outputs": [],
   "source": []
  }
 ],
 "metadata": {
  "kernelspec": {
   "display_name": "Python 3",
   "language": "python",
   "name": "python3"
  },
  "language_info": {
   "codemirror_mode": {
    "name": "ipython",
    "version": 3
   },
   "file_extension": ".py",
   "mimetype": "text/x-python",
   "name": "python",
   "nbconvert_exporter": "python",
   "pygments_lexer": "ipython3",
   "version": "3.7.3"
  }
 },
 "nbformat": 4,
 "nbformat_minor": 2
}
