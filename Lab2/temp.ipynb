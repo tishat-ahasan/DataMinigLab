{
 "cells": [
  {
   "cell_type": "code",
   "execution_count": 1,
   "metadata": {},
   "outputs": [],
   "source": [
    "import numpy as np\n",
    "import pandas as pd\n",
    "import tracemalloc\n",
    "import copy\n",
    "import re\n",
    "import csv\n",
    "import time\n",
    "import matplotlib.pyplot as plt\n",
    "from sklearn.model_selection import train_test_split, StratifiedKFold, KFold\n",
    "from sklearn.preprocessing import StandardScaler\n",
    "from sklearn.metrics import classification_report, confusion_matrix, accuracy_score, precision_recall_fscore_support\n",
    "from sklearn.pipeline import make_pipeline\n",
    "from sklearn.model_selection import cross_val_score"
   ]
  },
  {
   "cell_type": "code",
   "execution_count": 17,
   "metadata": {},
   "outputs": [],
   "source": [
    "def getData(dataset_name):\n",
    "    attribute_file_name = 'Data/'+dataset_name+\".attribute\"\n",
    "    dataset_file_name = 'Data/'+dataset_name+\".data\"\n",
    "    att = pd.read_csv(attribute_file_name,\n",
    "                      delim_whitespace=True,\n",
    "                     header = None)\n",
    "    attributes = {rows[0]:rows[1] for _,rows in att.iterrows()}\n",
    "    dataset = pd.read_csv(dataset_file_name,\n",
    "                      names=list(attributes.keys()))\n",
    "#     print(dataset.head(5))\n",
    "    return attributes, dataset"
   ]
  },
  {
   "cell_type": "code",
   "execution_count": 25,
   "metadata": {},
   "outputs": [],
   "source": [
    "class NaiveBayesClassifier:\n",
    "\n",
    "  def __init__(self, X, Y, discreteThreshold = 10, eps = 1e-6):\n",
    "    self.X = X\n",
    "    self.Y = Y\n",
    "    self.discreteThreshold = discreteThreshold\n",
    "    self.eps = eps\n",
    "    self.attributeInfo = self.get_attribute_info()\n",
    "    print(self.attributeInfo)\n",
    "\n",
    "  def normal_PDF(self, val, mu, sigma):\n",
    "    sigma = sigma if sigma != 0 else self.eps \n",
    "    exponentTerm = (-1) * ( ( (val-mu) ** 2 ) / ( 2 * (sigma ** 2) ) )\n",
    "    return (1/(np.sqrt(2*np.pi) * sigma)) * np.exp(exponentTerm)\n",
    "\n",
    "  def get_attribute_info(self):\n",
    "    attributeInfo = []\n",
    "    distinctClasses, classCounts = np.unique(self.Y, return_counts=True)\n",
    "    for i in range(self.X.shape[1]):\n",
    "      column = self.X[:, i]\n",
    "      distinctValues = np.unique(column)\n",
    "      attributeType = 'discrete' if len(distinctValues) <= self.discreteThreshold else 'continuous'\n",
    "      classWiseMean = {}\n",
    "      classWiseStd = {}\n",
    "      if attributeType == 'continuous':\n",
    "        for cls in distinctClasses:\n",
    "          classWiseMean[cls] = np.mean(column[self.Y == cls])\n",
    "          classWiseStd[cls] = np.std(column[self.Y == cls])\n",
    "\n",
    "      attributeInfo.append({\n",
    "          'idx' : i,\n",
    "          'type' : attributeType,\n",
    "          'distinctValues' : distinctValues if attributeType == 'discrete' else None,\n",
    "          'classWiseMean' : classWiseMean,\n",
    "          'classWiseStd' : classWiseStd\n",
    "      })\n",
    "    \n",
    "    \n",
    "\n",
    "    return np.array(attributeInfo)\n",
    "\n",
    "  def predict_one(self, x):\n",
    "    distinctClasses, classCounts = np.unique(self.Y, return_counts=True)\n",
    "    classProbs = classCounts/np.sum(classCounts)\n",
    "    maxPosterior = -np.inf\n",
    "    winClass = None\n",
    "    for i in range(len(distinctClasses)):\n",
    "      likelihood = 0\n",
    "      for j in range(len(self.attributeInfo)):\n",
    "        if self.attributeInfo[j]['type'] == 'discrete':\n",
    "          column = self.X[:, j]\n",
    "          classCorresporendingValues = column[self.Y == distinctClasses[i]]\n",
    "          conditionalProb = (classCorresporendingValues == x[j]).sum()/classCounts[i]\n",
    "          conditionalProb = conditionalProb if conditionalProb != 0 else self.eps\n",
    "          likelihood += np.log(conditionalProb)\n",
    "          # print(\"attribute : {} and class : {} and Prob : {}\".format(j, distinctClasses[i], conditionalProb))\n",
    "\n",
    "        else:\n",
    "          conditionalProb = self.normal_PDF(x[j], self.attributeInfo[j]['classWiseMean'][distinctClasses[i]], self.attributeInfo[j]['classWiseStd'][distinctClasses[i]])\n",
    "          conditionalProb = conditionalProb if conditionalProb != 0 else self.eps\n",
    "          likelihood += np.log(conditionalProb)\n",
    "          # print(\"attribute : {} and class : {} and Prob : {}\".format(j, distinctClasses[i], conditionalProb))\n",
    "\n",
    "      # print(\"Class {} -> Likelihood {}\".format(distinctClasses[i], likelihood))\n",
    "      posterior = likelihood + np.log(classProbs[i]) \n",
    "      # print(\"Class {} -> Posterior {}\".format(distinctClasses[i], posterior))\n",
    "      if posterior >= maxPosterior:\n",
    "        maxPosterior = posterior\n",
    "        winClass = distinctClasses[i]\n",
    "    \n",
    "    # print(\"\\nWinclass: {}\\n\".format(winClass))\n",
    "    return winClass \n",
    "\n",
    "  def predict(self, XTest):\n",
    "    YPred = []\n",
    "    for x in XTest:\n",
    "      YPred.append(self.predict_one(x))\n",
    "    return np.array(YPred)  "
   ]
  },
  {
   "cell_type": "code",
   "execution_count": 125,
   "metadata": {},
   "outputs": [
    {
     "name": "stdout",
     "output_type": "stream",
     "text": [
      "Index(['sepal_length', 'sepal_width', 'petal_length', 'petal_width', 'class'], dtype='object')\n",
      "here--------------------------------------------\n",
      "   sepal_length  sepal_width  petal_length  petal_width        class\n",
      "0           5.1          3.5           1.4          0.2  Iris-setosa\n",
      "1           4.9          3.0           1.4          0.2  Iris-setosa\n",
      "2           4.7          3.2           1.3          0.2  Iris-setosa\n",
      "{'weather': 'category', 'tempareture': 'category', 'humidity': 'category', 'wind': 'category', 'class': 'category'}\n",
      "[{'idx': 0, 'type': 'continuous', 'distinctValues': None, 'classWiseMean': {'Iris-setosa': 5.006, 'Iris-versicolor': 5.936, 'Iris-virginica': 6.587999999999998}, 'classWiseStd': {'Iris-setosa': 0.3489469873777391, 'Iris-versicolor': 0.5109833656783751, 'Iris-virginica': 0.6294886813914926}}\n",
      " {'idx': 1, 'type': 'continuous', 'distinctValues': None, 'classWiseMean': {'Iris-setosa': 3.418, 'Iris-versicolor': 2.7700000000000005, 'Iris-virginica': 2.974}, 'classWiseStd': {'Iris-setosa': 0.37719490982779713, 'Iris-versicolor': 0.31064449134018135, 'Iris-virginica': 0.3192553836664309}}\n",
      " {'idx': 2, 'type': 'continuous', 'distinctValues': None, 'classWiseMean': {'Iris-setosa': 1.464, 'Iris-versicolor': 4.26, 'Iris-virginica': 5.5520000000000005}, 'classWiseStd': {'Iris-setosa': 0.17176728442867112, 'Iris-versicolor': 0.4651881339845203, 'Iris-virginica': 0.546347874526844}}\n",
      " {'idx': 3, 'type': 'continuous', 'distinctValues': None, 'classWiseMean': {'Iris-setosa': 0.244, 'Iris-versicolor': 1.3259999999999998, 'Iris-virginica': 2.0260000000000002}, 'classWiseStd': {'Iris-setosa': 0.10613199329137281, 'Iris-versicolor': 0.19576516544063705, 'Iris-virginica': 0.2718896835115301}}]\n"
     ]
    }
   ],
   "source": [
    "filePath = 'Data/iris.data'\n",
    "df = pd.read_csv(filePath, sep=\",\", header=None)\n",
    "dfX = df.iloc[:,:-1]\n",
    "dfY = df.iloc[:,-1]\n",
    "# print(dfX.head())\n",
    "# print(dfY.head())\n",
    "\n",
    "attributes, dataset = getData('iris')\n",
    "columns = dataset.columns\n",
    "print(columns)\n",
    "training_data, testing_data = train_test_split(dataset, test_size = 0.2)\n",
    "\n",
    "print(\"here--------------------------------------------\")\n",
    "print(dataset.head(3))\n",
    "print(att)\n",
    "\n",
    "\n",
    "X = dfX.to_numpy()\n",
    "Y = np.squeeze(dfY.to_numpy())\n",
    "# print('instances = {}, features= {} '.format(X.shape[0], X.shape[1]))\n",
    "\n",
    "naiveBayesClassifier = NaiveBayesClassifier(X, Y, discreteThreshold = 10)\n",
    "YPred = naiveBayesClassifier.predict(X)\n"
   ]
  },
  {
   "cell_type": "code",
   "execution_count": 163,
   "metadata": {},
   "outputs": [],
   "source": [
    "def getInfo(dataset, attributes):\n",
    "    Info = {}\n",
    "    mean = {}\n",
    "    std = {}\n",
    "#     grouped = dataset.group_by(dataset['class'])\n",
    "    for column in dataset.columns:\n",
    "        if column == 'class' or attributes[column] == 'category': continue\n",
    "        mean[column] = dataset.groupby('class')[column].mean().to_dict()\n",
    "        std[column] = dataset.groupby('class')[column].std().to_dict()\n",
    "    Info['mean'] = mean\n",
    "    Info['std'] = std\n",
    "    return Info\n",
    "    "
   ]
  },
  {
   "cell_type": "code",
   "execution_count": 164,
   "metadata": {},
   "outputs": [
    {
     "name": "stdout",
     "output_type": "stream",
     "text": [
      "{'mean': {'sepal_length': {'Iris-setosa': 5.005999999999999, 'Iris-versicolor': 5.936, 'Iris-virginica': 6.587999999999998}, 'sepal_width': {'Iris-setosa': 3.4180000000000006, 'Iris-versicolor': 2.7700000000000005, 'Iris-virginica': 2.9739999999999998}, 'petal_length': {'Iris-setosa': 1.464, 'Iris-versicolor': 4.26, 'Iris-virginica': 5.552}, 'petal_width': {'Iris-setosa': 0.2439999999999999, 'Iris-versicolor': 1.3259999999999998, 'Iris-virginica': 2.026}}, 'std': {'sepal_length': {'Iris-setosa': 0.3524896872134513, 'Iris-versicolor': 0.5161711470638635, 'Iris-virginica': 0.635879593274432}, 'sepal_width': {'Iris-setosa': 0.38102439795469095, 'Iris-versicolor': 0.3137983233784114, 'Iris-virginica': 0.3224966381726375}, 'petal_length': {'Iris-setosa': 0.1735111594364455, 'Iris-versicolor': 0.46991097723995784, 'Iris-virginica': 0.5518946956639835}, 'petal_width': {'Iris-setosa': 0.1072095030816784, 'Iris-versicolor': 0.19775268000454407, 'Iris-virginica': 0.27465005563666745}}}\n"
     ]
    }
   ],
   "source": [
    "Info = getInfo(dataset, attributes)\n",
    "print(Info)"
   ]
  },
  {
   "cell_type": "code",
   "execution_count": 165,
   "metadata": {},
   "outputs": [],
   "source": [
    "  def predict_one(x):\n",
    "    distinctClasses, classCounts = np.unique(self.Y, return_counts=True)\n",
    "    classProbs = classCounts/np.sum(classCounts)\n",
    "    maxPosterior = -np.inf\n",
    "    winClass = None\n",
    "    for i in range(len(distinctClasses)):\n",
    "      likelihood = 0\n",
    "      for j in range(len(self.attributeInfo)):\n",
    "        if self.attributeInfo[j]['type'] == 'discrete':\n",
    "          column = self.X[:, j]\n",
    "          classCorresporendingValues = column[self.Y == distinctClasses[i]]\n",
    "          conditionalProb = (classCorresporendingValues == x[j]).sum()/classCounts[i]\n",
    "          conditionalProb = conditionalProb if conditionalProb != 0 else self.eps\n",
    "          likelihood += np.log(conditionalProb)\n",
    "          # print(\"attribute : {} and class : {} and Prob : {}\".format(j, distinctClasses[i], conditionalProb))\n",
    "\n",
    "        else:\n",
    "          conditionalProb = self.normal_PDF(x[j], self.attributeInfo[j]['classWiseMean'][distinctClasses[i]], self.attributeInfo[j]['classWiseStd'][distinctClasses[i]])\n",
    "          conditionalProb = conditionalProb if conditionalProb != 0 else self.eps\n",
    "          likelihood += np.log(conditionalProb)\n",
    "          # print(\"attribute : {} and class : {} and Prob : {}\".format(j, distinctClasses[i], conditionalProb))\n",
    "\n",
    "      # print(\"Class {} -> Likelihood {}\".format(distinctClasses[i], likelihood))\n",
    "      posterior = likelihood + np.log(classProbs[i]) \n",
    "      # print(\"Class {} -> Posterior {}\".format(distinctClasses[i], posterior))\n",
    "      if posterior >= maxPosterior:\n",
    "        maxPosterior = posterior\n",
    "        winClass = distinctClasses[i]\n",
    "    \n",
    "    # print(\"\\nWinclass: {}\\n\".format(winClass))\n",
    "    return winClass "
   ]
  },
  {
   "cell_type": "code",
   "execution_count": 166,
   "metadata": {},
   "outputs": [],
   "source": [
    "def getPrediction(dataset, Info, x): \n",
    "    distinct_class = dataset['class'].value_counts()\n",
    "    classProb = distinct_class/ distinct_class.sum()\n",
    "    grouped = dataset.groupby(['class'])\n",
    "    Winner = None\n",
    "    maxPosterior = -np.inf\n",
    "    \n",
    "#     print(classProb.index)\n",
    "    for att_class in distinct_class.index:\n",
    "        like_hood = 0\n",
    "        OnlyClassData = grouped.get_group(att_class)\n",
    "#         print(OnlyClassData)\n",
    "        for column in dataset.columns:\n",
    "            if column == 'class': continue\n",
    "            if attributes[column] == 'category':\n",
    "                print(\"--------------------category--------------------\")\n",
    "#                 print(x[column])\n",
    "                grouped_column = (OnlyClassData.groupby(column).count()+1e-6)/len(OnlyClassData)\n",
    "#                 print(np.log(grouped_column['class']))\n",
    "#                 print(\"#######################\")\n",
    "#                 print(np.log(grouped_column['class'][x[column]]))\n",
    "                like_hood += np.log(grouped_column['class'][x[column]])\n",
    "            else:\n",
    "                conditionalProbability = normal_PDF(x[column],Info['mean'][column][att_class],Info['std'][column][att_class])\n",
    "                conditionalProbability += 1e-6\n",
    "                like_hood += np.log(conditionalProbability)\n",
    "        posterior = like_hood+np.log(classProb[att_class])\n",
    "        if posterior > maxPosterior: \n",
    "            maxPosterior = posterior\n",
    "            Winner = att_class\n",
    "    print(Winner)"
   ]
  },
  {
   "cell_type": "code",
   "execution_count": 167,
   "metadata": {},
   "outputs": [
    {
     "name": "stdout",
     "output_type": "stream",
     "text": [
      "sepal_length               6.7\n",
      "sepal_width                3.3\n",
      "petal_length               5.7\n",
      "petal_width                2.5\n",
      "class           Iris-virginica\n",
      "Name: 144, dtype: object\n",
      "Iris-virginica\n"
     ]
    }
   ],
   "source": [
    "print(dataset.iloc[144])\n",
    "getPrediction(dataset, Info, dataset.iloc[144])"
   ]
  },
  {
   "cell_type": "code",
   "execution_count": 150,
   "metadata": {},
   "outputs": [],
   "source": [
    "def normal_PDF(val, mu, sigma):\n",
    "    sigma = sigma if sigma != 0 else self.eps \n",
    "    exponentTerm = (-1) * ( ( (val-mu) ** 2 ) / ( 2 * (sigma ** 2) ) )\n",
    "    return (1/(np.sqrt(2*np.pi) * sigma)) * np.exp(exponentTerm)\n"
   ]
  },
  {
   "cell_type": "code",
   "execution_count": null,
   "metadata": {},
   "outputs": [],
   "source": []
  }
 ],
 "metadata": {
  "kernelspec": {
   "display_name": "Python 3",
   "language": "python",
   "name": "python3"
  },
  "language_info": {
   "codemirror_mode": {
    "name": "ipython",
    "version": 3
   },
   "file_extension": ".py",
   "mimetype": "text/x-python",
   "name": "python",
   "nbconvert_exporter": "python",
   "pygments_lexer": "ipython3",
   "version": "3.7.3"
  }
 },
 "nbformat": 4,
 "nbformat_minor": 2
}
