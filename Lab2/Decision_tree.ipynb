{
 "cells": [
  {
   "cell_type": "code",
   "execution_count": 91,
   "metadata": {},
   "outputs": [],
   "source": [
    "import numpy as np\n",
    "import pandas as pd\n",
    "import math"
   ]
  },
  {
   "cell_type": "code",
   "execution_count": 149,
   "metadata": {},
   "outputs": [],
   "source": [
    "def get_data():\n",
    "    df = pd.read_csv('Data/sample.data',header=None)\n",
    "    for col in df.keys():\n",
    "        df.rename(columns={col : 'atr_'+str(col)},inplace=True)\n",
    "    df.rename(columns={'atr_'+str(col) : 'Label' },inplace=True)\n",
    "    return df"
   ]
  },
  {
   "cell_type": "code",
   "execution_count": 150,
   "metadata": {},
   "outputs": [],
   "source": [
    "def count_data(df,Attribute):\n",
    "    dic = {}\n",
    "    for col in Attribute:\n",
    "        if col not in dic.keys(): \n",
    "            dic_2 = {}\n",
    "            for atr in df[col].unique():\n",
    "                dic_3 = {}\n",
    "                for label in Labels: \n",
    "                    dic_3 [label]= 0\n",
    "                dic_2[atr] = dic_3\n",
    "            dic[col] = dic_2 \n",
    "\n",
    "    for index, row in df.iterrows():\n",
    "        for attr in Attribute:\n",
    "            dic[attr][row[attr]][row['Label']] += 1\n",
    "    return dic"
   ]
  },
  {
   "cell_type": "code",
   "execution_count": 151,
   "metadata": {},
   "outputs": [],
   "source": [
    "def count_gain(df,dic,Attribute):\n",
    "    gain = {}\n",
    "    for col in Attribute:\n",
    "        sum_ = 0\n",
    "        for atr in df[col].unique():\n",
    "            tot_row = 0\n",
    "            for label in Labels:\n",
    "                tot_row += dic[col][atr][label]\n",
    "            tot_gain = 0\n",
    "            for label in Labels:\n",
    "                tmp = float(dic[col][atr][label]) / float(tot_row)\n",
    "                if tmp != 0:\n",
    "                    tot_gain += tmp * math.log2(tmp)\n",
    "            tot_gain = tot_gain*-1\n",
    "            sum_ += (tot_row/len(df.index))*tot_gain\n",
    "        gain[col] = sum_\n",
    "    return gain"
   ]
  },
  {
   "cell_type": "code",
   "execution_count": 152,
   "metadata": {},
   "outputs": [],
   "source": [
    "def Decision_tree(df):\n",
    "    Labels = set(df['Label'])\n",
    "    if len(Labels) == 1:\n",
    "        return Labels.pop()\n",
    "    main_tree = {}\n",
    "    tree = {}\n",
    "    Attribute = list(df.columns)\n",
    "    Attribute = Attribute[:-1]\n",
    "    dic = count_data(df,Attribute)\n",
    "    gain = count_gain(df,dic,Attribute)\n",
    "    key_mingain = min (gain.keys(), key = (lambda k : gain[k]))\n",
    "    grouped = df.groupby(df[key_mingain])\n",
    "    for atr in df[key_mingain].unique():\n",
    "        new_data = grouped.get_group(atr)\n",
    "        del new_data[key_mingain]\n",
    "        tree[atr] = Decision_tree(new_data)\n",
    "    main_tree[key_mingain] = tree\n",
    "    return main_tree"
   ]
  },
  {
   "cell_type": "code",
   "execution_count": 153,
   "metadata": {},
   "outputs": [
    {
     "name": "stdout",
     "output_type": "stream",
     "text": [
      "{'atr_0': {'sunny': {'atr_2': {'high': 'no', 'normal': 'yes'}}, 'overcast': 'yes', 'rain': {'atr_3': {'weak': 'yes', 'strong': 'no'}}}}\n"
     ]
    }
   ],
   "source": [
    "df = get_data()\n",
    "Labels = set(df['Label'])\n",
    "ans = Decision_tree(df)\n",
    "print(ans)"
   ]
  },
  {
   "cell_type": "code",
   "execution_count": 162,
   "metadata": {},
   "outputs": [],
   "source": [
    "def printDecisionTree(tree,Labels,level):\n",
    "    level += \" \"\n",
    "    for key,value in tree.items():\n",
    "        if isinstance(value, dict):\n",
    "            print(level+str(key)+\":\")\n",
    "            printDecisionTree(value,Labels,level)\n",
    "        else: \n",
    "            print(level+str(key)+\"-->\",value)"
   ]
  },
  {
   "cell_type": "code",
   "execution_count": 163,
   "metadata": {},
   "outputs": [
    {
     "name": "stdout",
     "output_type": "stream",
     "text": [
      " atr_0:\n",
      "  sunny:\n",
      "   atr_2:\n",
      "    high--> no\n",
      "    normal--> yes\n",
      "  overcast--> yes\n",
      "  rain:\n",
      "   atr_3:\n",
      "    weak--> yes\n",
      "    strong--> no\n"
     ]
    }
   ],
   "source": [
    "printDecisionTree(ans,Labels,\"\")"
   ]
  },
  {
   "cell_type": "code",
   "execution_count": null,
   "metadata": {},
   "outputs": [],
   "source": []
  }
 ],
 "metadata": {
  "kernelspec": {
   "display_name": "Python 3",
   "language": "python",
   "name": "python3"
  },
  "language_info": {
   "codemirror_mode": {
    "name": "ipython",
    "version": 3
   },
   "file_extension": ".py",
   "mimetype": "text/x-python",
   "name": "python",
   "nbconvert_exporter": "python",
   "pygments_lexer": "ipython3",
   "version": "3.7.3"
  }
 },
 "nbformat": 4,
 "nbformat_minor": 2
}
