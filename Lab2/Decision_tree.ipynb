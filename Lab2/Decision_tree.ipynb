{
 "cells": [
  {
   "cell_type": "code",
   "execution_count": 2,
   "metadata": {},
   "outputs": [],
   "source": [
    "import numpy as np\n",
    "import pandas as pd\n",
    "import math"
   ]
  },
  {
   "cell_type": "code",
   "execution_count": 19,
   "metadata": {},
   "outputs": [],
   "source": [
    "def get_data():\n",
    "    df = pd.read_csv('Data/sample.data',header=None)\n",
    "    for col in df.keys():\n",
    "        df.rename(columns={col : 'atr_'+str(col)},inplace=True)\n",
    "    df.rename(columns={'atr_'+str(col) : 'Label' },inplace=True)\n",
    "    return df"
   ]
  },
  {
   "cell_type": "code",
   "execution_count": 30,
   "metadata": {},
   "outputs": [],
   "source": [
    "def count_data(df,Attribute):\n",
    "    dic = {}\n",
    "    for col in Attribute:\n",
    "        if col not in dic.keys(): \n",
    "            dic_2 = {}\n",
    "            for atr in df[col].unique():\n",
    "                dic_3 = {}\n",
    "                for label in Labels: \n",
    "                    dic_3 [label]= 0\n",
    "                dic_2[atr] = dic_3\n",
    "            dic[col] = dic_2 \n",
    "\n",
    "    for index, row in df.iterrows():\n",
    "        for attr in Attribute:\n",
    "            dic[attr][row[attr]][row['Label']] += 1\n",
    "    return dic"
   ]
  },
  {
   "cell_type": "code",
   "execution_count": 31,
   "metadata": {},
   "outputs": [],
   "source": [
    "def count_gain(df,dic,Attribute):\n",
    "    gain = {}\n",
    "    for col in Attribute:\n",
    "        sum_ = 0\n",
    "        for atr in df[col].unique():\n",
    "            tot_row = 0\n",
    "            for label in Labels:\n",
    "                tot_row += dic[col][atr][label]\n",
    "            tot_gain = 0\n",
    "            for label in Labels:\n",
    "                tmp = float(dic[col][atr][label]) / float(tot_row)\n",
    "                if tmp != 0:\n",
    "                    tot_gain += tmp * math.log2(tmp)\n",
    "            tot_gain = tot_gain*-1\n",
    "            sum_ += (tot_row/len(df.index))*tot_gain\n",
    "        gain[col] = sum_\n",
    "    return gain"
   ]
  },
  {
   "cell_type": "code",
   "execution_count": 41,
   "metadata": {},
   "outputs": [],
   "source": [
    "def Decision_tree(df, parent_majority_class):\n",
    "    print(\">>>>>>>>>>>>>\")\n",
    "    print(df)\n",
    "    Labels = set(df['Label'])\n",
    "    if len(Labels) == 1:\n",
    "        return Labels.pop()\n",
    "    elif df.shape[1] == 1:\n",
    "        return parent_majority_class\n",
    "    \n",
    "    main_tree = {}\n",
    "    tree = {}\n",
    "    parent_majority_class = np.argmax(df['Label'].value_counts())\n",
    "    \n",
    "    Attribute = list(df.columns)\n",
    "    Attribute = Attribute[:-1]\n",
    "    dic = count_data(df,Attribute)\n",
    "    gain = count_gain(df,dic,Attribute)\n",
    "    key_mingain = min (gain.keys(), key = (lambda k : gain[k]))\n",
    "    grouped = df.groupby(df[key_mingain])\n",
    "    \n",
    "    for atr in df[key_mingain].unique():\n",
    "        new_data = grouped.get_group(atr)\n",
    "        del new_data[key_mingain]\n",
    "        tree[atr] = Decision_tree(new_data, parent_majority_class)\n",
    "    main_tree[key_mingain] = tree\n",
    "    return main_tree"
   ]
  },
  {
   "cell_type": "code",
   "execution_count": 42,
   "metadata": {},
   "outputs": [
    {
     "name": "stdout",
     "output_type": "stream",
     "text": [
      ">>>>>>>>>>>>>\n",
      "  atr_0 atr_1 Label\n",
      "0  good     R   yes\n",
      "1  good     B   yes\n",
      "2   bad     R    no\n",
      "3   bad     R   yes\n",
      "4   bad     R   yes\n",
      "5   bad     R    no\n",
      "6   bad     R    no\n",
      ">>>>>>>>>>>>>\n",
      "  atr_1 Label\n",
      "0     R   yes\n",
      "1     B   yes\n",
      ">>>>>>>>>>>>>\n",
      "  atr_1 Label\n",
      "2     R    no\n",
      "3     R   yes\n",
      "4     R   yes\n",
      "5     R    no\n",
      "6     R    no\n",
      ">>>>>>>>>>>>>\n",
      "  Label\n",
      "2    no\n",
      "3   yes\n",
      "4   yes\n",
      "5    no\n",
      "6    no\n",
      "{'atr_0': {'good': 'yes', 'bad': {'atr_1': {'R': 'no'}}}}\n"
     ]
    },
    {
     "name": "stderr",
     "output_type": "stream",
     "text": [
      "/home/ahasan/anaconda3/lib/python3.7/site-packages/numpy/core/fromnumeric.py:56: FutureWarning: \n",
      "The current behaviour of 'Series.argmax' is deprecated, use 'idxmax'\n",
      "instead.\n",
      "The behavior of 'argmax' will be corrected to return the positional\n",
      "maximum in the future. For now, use 'series.values.argmax' or\n",
      "'np.argmax(np.array(values))' to get the position of the maximum\n",
      "row.\n",
      "  return getattr(obj, method)(*args, **kwds)\n"
     ]
    }
   ],
   "source": [
    "df = get_data()\n",
    "Labels = set(df['Label'])\n",
    "majority_class = np.argmax(df['Label'].value_counts())\n",
    "ans = Decision_tree(df, majority_class)\n",
    "print(ans)"
   ]
  },
  {
   "cell_type": "code",
   "execution_count": 45,
   "metadata": {},
   "outputs": [],
   "source": [
    "def printDecisionTree(tree,Labels,level):\n",
    "    level += \" \"\n",
    "    for key,value in tree.items():\n",
    "        if isinstance(value, dict):\n",
    "            print(level+str(key)+\":\")\n",
    "            printDecisionTree(value,Labels,level)\n",
    "        else: \n",
    "            print(level+str(key)+\"-->\",value)"
   ]
  },
  {
   "cell_type": "code",
   "execution_count": 46,
   "metadata": {},
   "outputs": [
    {
     "name": "stdout",
     "output_type": "stream",
     "text": [
      " atr_0:\n",
      "  good--> yes\n",
      "  bad:\n",
      "   atr_1:\n",
      "    R--> no\n"
     ]
    }
   ],
   "source": [
    "printDecisionTree(ans,Labels,\"\")"
   ]
  },
  {
   "cell_type": "code",
   "execution_count": 20,
   "metadata": {},
   "outputs": [],
   "source": [
    "df = get_data()\n",
    "# pd.unique()\n",
    "chk = df['atr_1'].value_counts()"
   ]
  },
  {
   "cell_type": "code",
   "execution_count": 27,
   "metadata": {},
   "outputs": [
    {
     "data": {
      "text/plain": [
       "['mild', 'cool', 'hot']"
      ]
     },
     "execution_count": 27,
     "metadata": {},
     "output_type": "execute_result"
    }
   ],
   "source": [
    "list(chk.index)"
   ]
  },
  {
   "cell_type": "code",
   "execution_count": 29,
   "metadata": {},
   "outputs": [
    {
     "name": "stderr",
     "output_type": "stream",
     "text": [
      "/home/ahasan/anaconda3/lib/python3.7/site-packages/numpy/core/fromnumeric.py:56: FutureWarning: \n",
      "The current behaviour of 'Series.argmax' is deprecated, use 'idxmax'\n",
      "instead.\n",
      "The behavior of 'argmax' will be corrected to return the positional\n",
      "maximum in the future. For now, use 'series.values.argmax' or\n",
      "'np.argmax(np.array(values))' to get the position of the maximum\n",
      "row.\n",
      "  return getattr(obj, method)(*args, **kwds)\n"
     ]
    },
    {
     "data": {
      "text/plain": [
       "'mild'"
      ]
     },
     "execution_count": 29,
     "metadata": {},
     "output_type": "execute_result"
    }
   ],
   "source": [
    "np.argmax(chk)"
   ]
  },
  {
   "cell_type": "code",
   "execution_count": 25,
   "metadata": {},
   "outputs": [
    {
     "name": "stdout",
     "output_type": "stream",
     "text": [
      "    Name  Age\n",
      "0    Tom   20\n",
      "1   nick   20\n",
      "2  krish   19\n",
      "3   jack   19\n"
     ]
    }
   ],
   "source": [
    "data = {'Name':['Tom', 'nick', 'krish', 'jack'],\n",
    "        'Age':[20, 20, 19, 19]}\n",
    " \n",
    "# Create DataFrame\n",
    "df = pd.DataFrame(data)\n",
    " \n",
    "# Print the output.\n",
    "print(df)\n"
   ]
  },
  {
   "cell_type": "code",
   "execution_count": 28,
   "metadata": {},
   "outputs": [
    {
     "name": "stderr",
     "output_type": "stream",
     "text": [
      "/home/ahasan/anaconda3/lib/python3.7/site-packages/numpy/core/fromnumeric.py:56: FutureWarning: \n",
      "The current behaviour of 'Series.argmax' is deprecated, use 'idxmax'\n",
      "instead.\n",
      "The behavior of 'argmax' will be corrected to return the positional\n",
      "maximum in the future. For now, use 'series.values.argmax' or\n",
      "'np.argmax(np.array(values))' to get the position of the maximum\n",
      "row.\n",
      "  return getattr(obj, method)(*args, **kwds)\n"
     ]
    },
    {
     "data": {
      "text/plain": [
       "19"
      ]
     },
     "execution_count": 28,
     "metadata": {},
     "output_type": "execute_result"
    }
   ],
   "source": [
    "np.argmax(df['Age'].value_counts())"
   ]
  },
  {
   "cell_type": "code",
   "execution_count": 40,
   "metadata": {},
   "outputs": [
    {
     "data": {
      "text/plain": [
       "3"
      ]
     },
     "execution_count": 40,
     "metadata": {},
     "output_type": "execute_result"
    }
   ],
   "source": [
    "df.shape[1]"
   ]
  },
  {
   "cell_type": "code",
   "execution_count": 47,
   "metadata": {},
   "outputs": [
    {
     "ename": "AttributeError",
     "evalue": "'DataFrame' object has no attribute 'unique'",
     "output_type": "error",
     "traceback": [
      "\u001b[0;31m---------------------------------------------------------------------------\u001b[0m",
      "\u001b[0;31mAttributeError\u001b[0m                            Traceback (most recent call last)",
      "\u001b[0;32m<ipython-input-47-84bc62f43960>\u001b[0m in \u001b[0;36m<module>\u001b[0;34m\u001b[0m\n\u001b[0;32m----> 1\u001b[0;31m \u001b[0mdf\u001b[0m\u001b[0;34m.\u001b[0m\u001b[0munique\u001b[0m\u001b[0;34m(\u001b[0m\u001b[0;34m)\u001b[0m\u001b[0;34m\u001b[0m\u001b[0;34m\u001b[0m\u001b[0m\n\u001b[0m",
      "\u001b[0;32m~/anaconda3/lib/python3.7/site-packages/pandas/core/generic.py\u001b[0m in \u001b[0;36m__getattr__\u001b[0;34m(self, name)\u001b[0m\n\u001b[1;32m   5065\u001b[0m             \u001b[0;32mif\u001b[0m \u001b[0mself\u001b[0m\u001b[0;34m.\u001b[0m\u001b[0m_info_axis\u001b[0m\u001b[0;34m.\u001b[0m\u001b[0m_can_hold_identifiers_and_holds_name\u001b[0m\u001b[0;34m(\u001b[0m\u001b[0mname\u001b[0m\u001b[0;34m)\u001b[0m\u001b[0;34m:\u001b[0m\u001b[0;34m\u001b[0m\u001b[0;34m\u001b[0m\u001b[0m\n\u001b[1;32m   5066\u001b[0m                 \u001b[0;32mreturn\u001b[0m \u001b[0mself\u001b[0m\u001b[0;34m[\u001b[0m\u001b[0mname\u001b[0m\u001b[0;34m]\u001b[0m\u001b[0;34m\u001b[0m\u001b[0;34m\u001b[0m\u001b[0m\n\u001b[0;32m-> 5067\u001b[0;31m             \u001b[0;32mreturn\u001b[0m \u001b[0mobject\u001b[0m\u001b[0;34m.\u001b[0m\u001b[0m__getattribute__\u001b[0m\u001b[0;34m(\u001b[0m\u001b[0mself\u001b[0m\u001b[0;34m,\u001b[0m \u001b[0mname\u001b[0m\u001b[0;34m)\u001b[0m\u001b[0;34m\u001b[0m\u001b[0;34m\u001b[0m\u001b[0m\n\u001b[0m\u001b[1;32m   5068\u001b[0m \u001b[0;34m\u001b[0m\u001b[0m\n\u001b[1;32m   5069\u001b[0m     \u001b[0;32mdef\u001b[0m \u001b[0m__setattr__\u001b[0m\u001b[0;34m(\u001b[0m\u001b[0mself\u001b[0m\u001b[0;34m,\u001b[0m \u001b[0mname\u001b[0m\u001b[0;34m,\u001b[0m \u001b[0mvalue\u001b[0m\u001b[0;34m)\u001b[0m\u001b[0;34m:\u001b[0m\u001b[0;34m\u001b[0m\u001b[0;34m\u001b[0m\u001b[0m\n",
      "\u001b[0;31mAttributeError\u001b[0m: 'DataFrame' object has no attribute 'unique'"
     ]
    }
   ],
   "source": [
    "df.unique()"
   ]
  },
  {
   "cell_type": "code",
   "execution_count": 48,
   "metadata": {},
   "outputs": [
    {
     "data": {
      "text/plain": [
       "array(['B', 'R', 'bad', 'good', 'no', 'yes'], dtype=object)"
      ]
     },
     "execution_count": 48,
     "metadata": {},
     "output_type": "execute_result"
    }
   ],
   "source": [
    "np.unique(df)"
   ]
  },
  {
   "cell_type": "code",
   "execution_count": 55,
   "metadata": {},
   "outputs": [
    {
     "name": "stdout",
     "output_type": "stream",
     "text": [
      "{'atr_0': array(['good', 'bad'], dtype=object), 'atr_1': array(['R', 'B'], dtype=object), 'Label': array(['yes', 'no'], dtype=object)}\n"
     ]
    }
   ],
   "source": [
    "Feature = {}\n",
    "for col in df.columns:\n",
    "    Feature[col] = df[col].unique()\n",
    "print(Feature)"
   ]
  },
  {
   "cell_type": "code",
   "execution_count": 57,
   "metadata": {},
   "outputs": [
    {
     "data": {
      "text/plain": [
       "array(['good', 'bad'], dtype=object)"
      ]
     },
     "execution_count": 57,
     "metadata": {},
     "output_type": "execute_result"
    }
   ],
   "source": [
    "Feature['atr_0']"
   ]
  },
  {
   "cell_type": "code",
   "execution_count": null,
   "metadata": {},
   "outputs": [],
   "source": []
  }
 ],
 "metadata": {
  "kernelspec": {
   "display_name": "Python 3",
   "language": "python",
   "name": "python3"
  },
  "language_info": {
   "codemirror_mode": {
    "name": "ipython",
    "version": 3
   },
   "file_extension": ".py",
   "mimetype": "text/x-python",
   "name": "python",
   "nbconvert_exporter": "python",
   "pygments_lexer": "ipython3",
   "version": "3.7.3"
  }
 },
 "nbformat": 4,
 "nbformat_minor": 2
}
